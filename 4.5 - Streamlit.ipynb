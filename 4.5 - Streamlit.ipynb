{
  "cells": [
    {
      "cell_type": "markdown",
      "metadata": {
        "id": "ydIiTIKXB_K0"
      },
      "source": [
        "<!-- Inicia la tabla con un ancho del 40% de la página y alineada a la derecha -->\n",
        "<table width=\"40%\" align=\"right\" style=\"background-color: white;\">\n",
        "    <!-- Inicia la fila de la tabla -->\n",
        "    <tr>\n",
        "        <!-- Logotipo del laboratorio en la primera celda -->\n",
        "        <td style=\"background-color: white; vertical-align: middle; text-align: center; height: 60px;\">\n",
        "            <img src=\"http://www.cidaen.es/assets/img/SIMD.png\" alt=\"SIMD\" style=\"max-height: 50px; width: auto; max-width: 100%;\">\n",
        "        </td>\n",
        "        <!-- Logotipo de la universidad en la segunda celda -->\n",
        "        <td style=\"background-color: white; vertical-align: middle; text-align: center; height: 60px;\">\n",
        "            <img src=\"http://www.cidaen.es/assets/img/UCLM.png\" alt=\"UCLM\" style=\"max-height: 50px; width: auto; max-width: 100%;\">\n",
        "        </td>\n",
        "    <!-- Termina la fila de la tabla -->\n",
        "    </tr>\n",
        "</table>\n",
        "\n",
        "<!-- Añade varios saltos de línea para separar la tabla del siguiente contenido -->\n",
        "<br><br><br>\n",
        "\n",
        "<!-- Encabezado para la sesión -->\n",
        "<h2><font color=\"#A4123F\" size=5>Módulo 4</font></h2>\n",
        "\n",
        "<!-- Título principal del documento -->\n",
        "# 4.5 - Streamlit\n",
        "\n",
        "<!-- Añade más saltos de línea para generar espacio adicional -->\n",
        "<br><br><br>\n",
        "\n",
        "<!-- Información sobre el autor del contenido -->\n",
        "<div align=\"right\">\n",
        "    <!-- Nombre del autor -->\n",
        "    Pablo Torrijos Arenas\n",
        "    <br>\n",
        "    <!-- Título del curso -->\n",
        "    <font color=\"#A4123F\" size=3><b>Curso de Inteligencia Artificial para Desarrolladores</b></font>\n",
        "    <br>\n",
        "    <!-- Nombre de la universidad -->\n",
        "    Universidad de Castilla-La Mancha\n",
        "</div>"
      ]
    },
    {
      "cell_type": "markdown",
      "metadata": {
        "id": "EjbLcN5MBELo"
      },
      "source": [
        "## 1. Introducción   <img src=\"figures/Streamlit-logo.png\" style=\"float: right; max-height: 100px; width: auto; max-width: 100%;\">\n",
        "\n",
        "En esta práctica vamos a aprender los conceptos básicos acerca de **Streamlit**. [Streamlit](https://streamlit.io/) es un framework **open-source** que permite crear **aplicaciones web interactivas** de manera sencilla utilizando Python. Su principal ventaja es que está diseñado para científicos de datos, ingenieros y desarrolladores que quieran convertir scripts de Python en aplicaciones visuales sin necesidad de conocimientos avanzados en desarrollo frontend o web. Se utiliza principalmente para visualizar y manipular datos de manera interactiva, crear dashboards, y construir prototipos rápidamente.\n",
        "\n",
        "\n"
      ]
    },
    {
      "cell_type": "markdown",
      "metadata": {},
      "source": [
        "### 1.1. Inicialización"
      ]
    },
    {
      "cell_type": "markdown",
      "metadata": {},
      "source": [
        "Streamlit se puede instalar con pip, y lo podemos importar como cualquier otra librería."
      ]
    },
    {
      "cell_type": "code",
      "execution_count": 1,
      "metadata": {},
      "outputs": [],
      "source": [
        "# !pip install streamlit\n",
        "import streamlit as st"
      ]
    },
    {
      "cell_type": "markdown",
      "metadata": {},
      "source": [
        "En este caso, vamos a usar esta libreta de jupyter para seguir la práctica, pero vamos a desarrollar las aplicaciones de Streamlit en un archivo de Python separado (por ejemplo, `app.py`) y a lanzarlos desde la terminal con el comando `streamlit run app.py`.\n",
        "\n",
        "Por ejemplo, vamos a hacer una primera aplicación básica:"
      ]
    },
    {
      "cell_type": "code",
      "execution_count": 13,
      "metadata": {},
      "outputs": [
        {
          "data": {
            "text/plain": [
              "'\\nimport streamlit as st\\nst.title(\"Mi primera aplicación en Streamlit\")\\nst.write(\"Hola, mundo. Esta es mi primera aplicación en Streamlit.\")\\n'"
            ]
          },
          "execution_count": 13,
          "metadata": {},
          "output_type": "execute_result"
        }
      ],
      "source": [
        "'''\n",
        "import streamlit as st\n",
        "st.title(\"Mi primera aplicación en Streamlit\")\n",
        "st.write(\"Hola, mundo. Esta es mi primera aplicación en Streamlit.\")\n",
        "'''"
      ]
    },
    {
      "cell_type": "markdown",
      "metadata": {},
      "source": [
        "Copiamos las líneas a nuestro archivo `app.py`, y al ejecutarla se nos abre directamente en nuestro navegador en la dirección `http://localhost:8501`. Si trabajamos con editores como `Visual Studio Code`, podemos pulsar `Ctrl+Mayus+P`, buscar `\"Simple Browser\"`, e indicar la dirección (`http://localhost:8501/` en este caso) para abrir un navegador integrado.\n",
        "\n",
        "Podemos ver cómo si cambiamos algo en el código, nos avisa para poder actualizar la web. También tenemos la opción de que lo haga automáticamente al guardar."
      ]
    },
    {
      "cell_type": "markdown",
      "metadata": {},
      "source": [
        "### 1.2. Navegación y páginas\n",
        "\n",
        "Streamlit permite organizar la aplicación en múltiples páginas para hacer que la navegación sea más intuitiva. Cada página puede contener diferentes elementos, visualizaciones y widgets.\n",
        "\n",
        "Para crear enlaces entre las páginas, se utiliza la función `st.page_link()` (la veremos más adelante). Además, en el menú izquierdo también se puede cambiar entre páginas.\n",
        "\n",
        "Por defecto, nos carga los ficheros `.py` del proyecto. Pero podemos especificar qué páginas queremos cargar:"
      ]
    },
    {
      "cell_type": "code",
      "execution_count": null,
      "metadata": {},
      "outputs": [],
      "source": [
        "'''\n",
        "import streamlit as st\n",
        "\n",
        "st.title(\"ESTE TÍTULO APARECE EN TODAS LAS PÁGINAS\")\n",
        "\n",
        "pg = st.navigation([\n",
        "    st.Page(\"pages/2.1.texto.py\", title=\"2.1. Texto\", icon=\"📝\"),\n",
        "    st.Page(\"pages/2.2.datos.py\", title=\"2.2. Datos\", icon=\"📊\"),\n",
        "    st.Page(\"pages/2.3.graficas.py\", title=\"2.3. Gráficas\", icon=\"📈\"),\n",
        "    st.Page(\"pages/2.4.input.py\", title=\"2.4. Input\", icon=\"🧩\"),\n",
        "    st.Page(\"pages/2.5.media.py\", title=\"2.5. Media\", icon=\"🎥\"),\n",
        "    st.Page(\"pages/2.6.layouts.py\", title=\"2.6. Layouts\", icon=\"🔲\"),\n",
        "    st.Page(\"pages/2.7.chat.py\", title=\"2.7. Chat\", icon=\"💬\"),\n",
        "    st.Page(\"pages/2.8.status.py\", title=\"2.8. Status\", icon=\"🛠️\")\n",
        "])\n",
        "pg.run()\n",
        "'''"
      ]
    },
    {
      "cell_type": "markdown",
      "metadata": {},
      "source": [
        "## 2. Elementos\n",
        "\n",
        "Streamlit nos permite añadir a nuestra aplicación prácticamente cualquier elemento que necesitemos. Además, cuenta con componentes third-party, conexiones a bases de datos, soporte de HTML e iframe, o incluso podemos crear nuestros propios componentes.\n",
        "\n",
        "En https://docs.streamlit.io/develop/api-reference podemos consultar todas las funcionalidades que nos ofrece Streamlit. Además, no solo contamos con los componentes por defecto, sino que en https://streamlit.io/components podemos obtener una gran variedad de componentes dependiendo de las necesidades específicas que tengamos.\n",
        "\n",
        "Para familiarizarnos, vamos a repasar algunos de los más útiles."
      ]
    },
    {
      "cell_type": "markdown",
      "metadata": {},
      "source": [
        "### 2.0. Write y Magic\n",
        "\n",
        "Aparte de los comandos específicos, hay 3* que nos van a ser especialmente útiles:\n",
        "\n",
        "#### 2.0.1. Write\n",
        "\n",
        "El comando `st.write` es la Navaja Suiza de Streamlit, ya que permite mostrar argumentos en la aplicación de diferentes maneras. Se pueden pasar múltiples argumentos y su comportamiento varía según el tipo de entrada, ya sea texto, tablas, gráficos..."
      ]
    },
    {
      "cell_type": "code",
      "execution_count": null,
      "metadata": {},
      "outputs": [],
      "source": [
        "'''\n",
        "import streamlit as st\n",
        "import pandas as pd\n",
        "import numpy as np\n",
        "import seaborn as sns\n",
        "import altair as alt\n",
        "\n",
        "df = pd.DataFrame(np.random.randn(200, 3), columns=[\"a\", \"b\", \"c\"])\n",
        "\n",
        "st.write(\"1 + 1 = \", 2)\n",
        "st.write(\"Below is a DataFrame:\", df, \"Above is a dataframe.\")\n",
        "\n",
        "g = (alt.Chart(df).mark_circle().encode(x=\"a\", y=\"b\", size=\"c\", color=\"c\", tooltip=[\"a\", \"b\", \"c\"]))\n",
        "st.write(g)\n",
        "'''"
      ]
    },
    {
      "cell_type": "markdown",
      "metadata": {},
      "source": [
        "#### 2.0.2 Write stream\n",
        "\n",
        "El comando `st.write_stream` se utiliza para enviar a la aplicación un generador, iterable, secuencia o similar. Este comando recorre los fragmentos que se le pasan y los envía a la aplicación.\n",
        "\n",
        "- Los fragmentos de texto se mostrarán con un efecto de máquina de escribir.\n",
        "- El resto tipos de datos se mostrarán usando `st.write`.\n",
        "\n",
        "Es útil para mostrar datos en tiempo real o cargar contenido poco a poco, como por ejemplo al programar un chatbot."
      ]
    },
    {
      "cell_type": "code",
      "execution_count": 11,
      "metadata": {},
      "outputs": [
        {
          "data": {
            "text/plain": [
              "'\\nimport time\\nimport numpy as np\\nimport pandas as pd\\nimport streamlit as st\\n\\n_LOREM_IPSUM = \"\"\"Lorem ipsum dolor sit amet, **consectetur adipiscing** elit, sed do eiusmod tempor incididunt ut labore et dolore magna aliqua. Ut enim ad minim veniam, quis nostrud exercitation ullamco laboris nisi ut aliquip ex ea commodo consequat.\"\"\"\\n\\ndef stream_data():\\n    for word in _LOREM_IPSUM.split(\" \"):\\n        yield word + \" \"\\n        time.sleep(0.02)\\n\\n    yield pd.DataFrame(\\n        np.random.randn(5, 10),\\n        columns=[\"a\", \"b\", \"c\", \"d\", \"e\", \"f\", \"g\", \"h\", \"i\", \"j\"],\\n    )\\n\\n    for word in _LOREM_IPSUM.split(\" \"):\\n        yield word + \" \"\\n        time.sleep(0.02)\\n\\nif st.button(\"Stream data\"):\\n    st.write_stream(stream_data)\\n'"
            ]
          },
          "execution_count": 11,
          "metadata": {},
          "output_type": "execute_result"
        }
      ],
      "source": [
        "'''\n",
        "import time\n",
        "import numpy as np\n",
        "import pandas as pd\n",
        "import streamlit as st\n",
        "\n",
        "_LOREM_IPSUM = \"\"\"Lorem ipsum dolor sit amet, **consectetur adipiscing** elit, sed do eiusmod tempor incididunt ut labore et dolore magna aliqua. Ut enim ad minim veniam, quis nostrud exercitation ullamco laboris nisi ut aliquip ex ea commodo consequat.\"\"\"\n",
        "\n",
        "def stream_data():\n",
        "    for word in _LOREM_IPSUM.split(\" \"):\n",
        "        yield word + \" \"\n",
        "        time.sleep(0.02)\n",
        "\n",
        "    yield pd.DataFrame(\n",
        "        np.random.randn(5, 10),\n",
        "        columns=[\"a\", \"b\", \"c\", \"d\", \"e\", \"f\", \"g\", \"h\", \"i\", \"j\"],\n",
        "    )\n",
        "\n",
        "    for word in _LOREM_IPSUM.split(\" \"):\n",
        "        yield word + \" \"\n",
        "        time.sleep(0.02)\n",
        "\n",
        "if st.button(\"Stream data\"):\n",
        "    st.write_stream(stream_data)\n",
        "'''"
      ]
    },
    {
      "cell_type": "markdown",
      "metadata": {},
      "source": [
        "#### 2.0.3 Magic\n",
        "\n",
        "De forma algo similar a lo que ocurre con las últimas líneas de las celdas de código en Jupyter, Streamlit permite mostrar texto, tablas, gráficos, figuras... sin tener que llamar a `st.write()`.\n"
      ]
    },
    {
      "cell_type": "code",
      "execution_count": null,
      "metadata": {},
      "outputs": [],
      "source": [
        "'''\n",
        "import pandas as pd\n",
        "import matplotlib.pyplot as plt\n",
        "import numpy as np\n",
        "\n",
        "''# This is the document title\n",
        "This is some _markdown_.''\n",
        "\n",
        "df = pd.DataFrame({'col1': [1,2,3]})\n",
        "df \n",
        "\n",
        "x = 10\n",
        "'x', x \n",
        "\n",
        "arr = np.random.normal(1, 1, size=100)\n",
        "fig, ax = plt.subplots()\n",
        "ax.hist(arr, bins=20)\n",
        "\n",
        "fig\n",
        "'''"
      ]
    },
    {
      "cell_type": "markdown",
      "metadata": {},
      "source": [
        "### 2.1. Elementos de texto"
      ]
    },
    {
      "cell_type": "markdown",
      "metadata": {},
      "source": [
        "### 2.2. Elementos de datos"
      ]
    },
    {
      "cell_type": "markdown",
      "metadata": {},
      "source": [
        "### 2.3. Elementos para gráficas"
      ]
    },
    {
      "cell_type": "markdown",
      "metadata": {},
      "source": [
        "### 2.4. Elementos de entrada"
      ]
    },
    {
      "cell_type": "markdown",
      "metadata": {},
      "source": [
        "### 2.5. Elementos multimedia"
      ]
    },
    {
      "cell_type": "markdown",
      "metadata": {},
      "source": [
        "### 2.6. Layouts y contenedores"
      ]
    },
    {
      "cell_type": "markdown",
      "metadata": {},
      "source": [
        "### 2.7. Elementos de estado"
      ]
    },
    {
      "cell_type": "markdown",
      "metadata": {},
      "source": [
        "### 2.8. Elementos de chat"
      ]
    },
    {
      "cell_type": "markdown",
      "metadata": {},
      "source": [
        "### 2.9 Otras funciones"
      ]
    },
    {
      "cell_type": "markdown",
      "metadata": {},
      "source": [
        "## 3. Streamlit Community Cloud"
      ]
    },
    {
      "cell_type": "markdown",
      "metadata": {},
      "source": [
        "Una función muy útil de Streamlit es que nos permite publicar nuestras aplicaciones web de forma gratuita. Es tan sencillo como:\n",
        "- Registrarnos en `Streamlit Community Cloud` (https://share.streamlit.io/signup)\n",
        "- Autorizar a Streamlit a usar nuestra cuenta de `GitHub`. Si no queremos hacer público nuestro código, podemos autorizar también el acceso a repositorios privados.\n",
        "- Subir nuestra aplicación a un repositorio de GitHub.\n",
        "- Hacer el deploy desde Streamlit. Cada vez que hagamos un push, la aplicación se actualizará automáticamente. Como características: \n",
        "  - Podemos establecer variables de entorno, útiles en el caso de que por ejemplo necesitemos usar un API_KEY. Por ejemplo, en nuestro caso con la API de OpenAI.\n",
        "  - Podemos añadir un requirements.txt al proyecto para cargar automáticamente las dependencias.\n",
        "  - Podemos compartir nuestra aplicación con las cuentas que queramos, o hacerla pública para todo el mundo.\n",
        "  - Incluso podemos editarla online, usando los Codespaces de GitHub.\n",
        "\n",
        "Sin embargo, esta no es la única forma de publicar las aplicaciones. Podemos usar la que más nos guste, desde Docker, Kubernetes, a usar Amazon EC2, Azure, Google App Engine, Snowflake... Además, hay tutoriales muy bien documentados para cada una de ellas."
      ]
    }
  ],
  "metadata": {
    "colab": {
      "provenance": []
    },
    "kernelspec": {
      "display_name": "base",
      "language": "python",
      "name": "python3"
    },
    "language_info": {
      "codemirror_mode": {
        "name": "ipython",
        "version": 3
      },
      "file_extension": ".py",
      "mimetype": "text/x-python",
      "name": "python",
      "nbconvert_exporter": "python",
      "pygments_lexer": "ipython3",
      "version": "3.12.4"
    }
  },
  "nbformat": 4,
  "nbformat_minor": 0
}
